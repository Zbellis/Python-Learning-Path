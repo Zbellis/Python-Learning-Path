{
 "cells": [
  {
   "cell_type": "code",
   "execution_count": 2,
   "id": "f33dbbb2",
   "metadata": {},
   "outputs": [],
   "source": [
    "import matplotlib.pyplot as plt\n",
    "import numpy as np\n",
    "import openpyxl\n",
    "import os\n",
    "import pandas as pd\n",
    "import seaborn as sns"
   ]
  },
  {
   "cell_type": "markdown",
   "id": "a1a97b61",
   "metadata": {},
   "source": [
    "# Load Strava Data\n",
    "\n",
    "#### https://scottpdawson.com/export-strava-workout-data/"
   ]
  },
  {
   "cell_type": "code",
   "execution_count": 10,
   "id": "9131ec9f",
   "metadata": {},
   "outputs": [],
   "source": [
    "os.chdir('/Users/zacharyellis/Downloads/')\n",
    "monthly_report = 'Sept9_run_report.xlsx'\n",
    "df = pd.read_excel(monthly_report)"
   ]
  },
  {
   "cell_type": "markdown",
   "id": "ac924474",
   "metadata": {},
   "source": [
    "# Transform Data"
   ]
  },
  {
   "cell_type": "code",
   "execution_count": 13,
   "id": "32f8a633",
   "metadata": {},
   "outputs": [],
   "source": [
    "# looking to analyze most recent runs that are between 6-10 miles\n",
    "df['start_date'] = pd.to_datetime(df['start_date'])\n",
    "df_ordered_by_time = df.sort_values(by='start_date', ascending=False)\n",
    "df = df_ordered_by_time\n",
    "\n",
    "distance_filter = df['distance'] >= 6\n",
    "distance_filter2 = df['distance'] <= 10\n",
    "df2 = df[distance_filter & distance_filter2]\n",
    "# df2.insert()"
   ]
  },
  {
   "cell_type": "code",
   "execution_count": 5,
   "id": "2a8fde5f",
   "metadata": {},
   "outputs": [],
   "source": [
    "df2.to_numpy\n",
    "elevation_gain = df2.loc[:, 'elevation_gain'].values\n",
    "distance = df2.loc[:, 'distance'].values\n",
    "hours = df2.loc[:, 'hours'].values"
   ]
  },
  {
   "cell_type": "markdown",
   "id": "584e424b",
   "metadata": {},
   "source": [
    "# Extract"
   ]
  },
  {
   "cell_type": "code",
   "execution_count": 17,
   "id": "0583677f",
   "metadata": {},
   "outputs": [
    {
     "name": "stdout",
     "output_type": "stream",
     "text": [
      "Average elevation gain: 101.11764705882354\n",
      "Average distance: 7.43470588235294\n",
      "Average time: 1.067905882352941\n",
      "Average pace: 8:37 per/mile\n"
     ]
    }
   ],
   "source": [
    "avg_eg = df2['elevation_gain'].mean()\n",
    "avg_dis = df2['distance'].mean()\n",
    "avg_hr = df2['hours'].mean()\n",
    "\n",
    "print(\"Average elevation gain:\", avg_eg)\n",
    "print(\"Average distance:\", avg_dis)\n",
    "print(\"Average time:\", avg_hr)\n",
    "\n",
    "print(\"Average pace: 8:37 per/mile\")"
   ]
  },
  {
   "cell_type": "code",
   "execution_count": 16,
   "id": "e6a78e6d",
   "metadata": {},
   "outputs": [],
   "source": [
    "df2.to_excel(\"6-10milers_updated.xlsx\",\n",
    "             sheet_name='Sheet_name_1')"
   ]
  },
  {
   "cell_type": "code",
   "execution_count": null,
   "id": "5ee7ffee",
   "metadata": {},
   "outputs": [],
   "source": []
  }
 ],
 "metadata": {
  "kernelspec": {
   "display_name": "Python 3",
   "language": "python",
   "name": "python3"
  },
  "language_info": {
   "codemirror_mode": {
    "name": "ipython",
    "version": 3
   },
   "file_extension": ".py",
   "mimetype": "text/x-python",
   "name": "python",
   "nbconvert_exporter": "python",
   "pygments_lexer": "ipython3",
   "version": "3.8.8"
  }
 },
 "nbformat": 4,
 "nbformat_minor": 5
}
